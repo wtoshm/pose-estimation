{
  "nbformat": 4,
  "nbformat_minor": 0,
  "metadata": {
    "colab": {
      "name": "pose_getting_the_data.ipynb",
      "provenance": [],
      "collapsed_sections": [],
      "authorship_tag": "ABX9TyNYowVmk+Y3aTNfO2e7CNVv",
      "include_colab_link": true
    },
    "kernelspec": {
      "name": "python3",
      "display_name": "Python 3"
    },
    "accelerator": "GPU"
  },
  "cells": [
    {
      "cell_type": "markdown",
      "metadata": {
        "id": "view-in-github",
        "colab_type": "text"
      },
      "source": [
        "<a href=\"https://colab.research.google.com/github/wtoshm/pose-estimation/blob/master/pose_getting_the_data.ipynb\" target=\"_parent\"><img src=\"https://colab.research.google.com/assets/colab-badge.svg\" alt=\"Open In Colab\"/></a>"
      ]
    },
    {
      "cell_type": "code",
      "metadata": {
        "id": "FlqeEM4LmIuH",
        "colab_type": "code",
        "outputId": "8d18f961-253f-429c-da9b-b8f17fbac4c5",
        "colab": {
          "base_uri": "https://localhost:8080/",
          "height": 404
        }
      },
      "source": [
        "!wget http://ufldl.stanford.edu/housenumbers/train_32x32.mat\n",
        "!wget http://ufldl.stanford.edu/housenumbers/test_32x32.mat\n"
      ],
      "execution_count": 1,
      "outputs": [
        {
          "output_type": "stream",
          "text": [
            "--2020-05-19 04:31:57--  http://ufldl.stanford.edu/housenumbers/train_32x32.mat\n",
            "Resolving ufldl.stanford.edu (ufldl.stanford.edu)... 171.64.68.10\n",
            "Connecting to ufldl.stanford.edu (ufldl.stanford.edu)|171.64.68.10|:80... connected.\n",
            "HTTP request sent, awaiting response... 200 OK\n",
            "Length: 182040794 (174M) [text/plain]\n",
            "Saving to: ‘train_32x32.mat’\n",
            "\n",
            "train_32x32.mat     100%[===================>] 173.61M  11.5MB/s    in 18s     \n",
            "\n",
            "2020-05-19 04:32:16 (9.51 MB/s) - ‘train_32x32.mat’ saved [182040794/182040794]\n",
            "\n",
            "--2020-05-19 04:32:18--  http://ufldl.stanford.edu/housenumbers/test_32x32.mat\n",
            "Resolving ufldl.stanford.edu (ufldl.stanford.edu)... 171.64.68.10\n",
            "Connecting to ufldl.stanford.edu (ufldl.stanford.edu)|171.64.68.10|:80... connected.\n",
            "HTTP request sent, awaiting response... 200 OK\n",
            "Length: 64275384 (61M) [text/plain]\n",
            "Saving to: ‘test_32x32.mat’\n",
            "\n",
            "test_32x32.mat      100%[===================>]  61.30M  12.3MB/s    in 8.1s    \n",
            "\n",
            "2020-05-19 04:32:26 (7.60 MB/s) - ‘test_32x32.mat’ saved [64275384/64275384]\n",
            "\n"
          ],
          "name": "stdout"
        }
      ]
    },
    {
      "cell_type": "code",
      "metadata": {
        "id": "SnMr-Xb3KhPd",
        "colab_type": "code",
        "colab": {}
      },
      "source": [
        "import scipy.io "
      ],
      "execution_count": 0,
      "outputs": []
    },
    {
      "cell_type": "code",
      "metadata": {
        "id": "G-yZKAphnuVx",
        "colab_type": "code",
        "colab": {}
      },
      "source": [
        "train = scipy.io.loadmat('train_32x32.mat')\n",
        "test = scipy.io.loadmat('test_32x32.mat')"
      ],
      "execution_count": 0,
      "outputs": []
    },
    {
      "cell_type": "code",
      "metadata": {
        "id": "BngSy4Vjob0a",
        "colab_type": "code",
        "colab": {
          "base_uri": "https://localhost:8080/",
          "height": 1000
        },
        "outputId": "0ade48ae-c82b-4cc5-dbd3-8063337e1603"
      },
      "source": [
        "train"
      ],
      "execution_count": 6,
      "outputs": [
        {
          "output_type": "execute_result",
          "data": {
            "text/plain": [
              "{'X': array([[[[ 33,  84,  19, ...,  92, 190, 216],\n",
              "          [ 30,  76,  54, ...,  78, 188, 217],\n",
              "          [ 38,  59, 110, ..., 101, 191, 212]],\n",
              " \n",
              "         [[ 15,  86,  20, ...,  94, 205, 221],\n",
              "          [ 23,  73,  52, ...,  82, 203, 222],\n",
              "          [ 19,  66, 111, ..., 105, 206, 217]],\n",
              " \n",
              "         [[ 15,  77,  25, ..., 114, 220, 226],\n",
              "          [ 17,  78,  57, ..., 101, 218, 227],\n",
              "          [ 19,  56, 116, ..., 125, 220, 221]],\n",
              " \n",
              "         ...,\n",
              " \n",
              "         [[ 72,  90,  65, ..., 200, 229, 200],\n",
              "          [ 65,  78, 144, ..., 201, 231, 199],\n",
              "          [ 56,  69, 223, ..., 203, 224, 191]],\n",
              " \n",
              "         [[ 82,  88,  78, ..., 192, 229, 193],\n",
              "          [ 77,  77, 148, ..., 193, 229, 188],\n",
              "          [ 57,  67, 218, ..., 195, 224, 182]],\n",
              " \n",
              "         [[ 89,  88,  98, ..., 190, 229, 197],\n",
              "          [ 79,  78, 158, ..., 191, 228, 189],\n",
              "          [ 59,  66, 220, ..., 193, 223, 186]]],\n",
              " \n",
              " \n",
              "        [[[ 28,  85,  21, ...,  92, 183, 204],\n",
              "          [ 39,  77,  53, ...,  78, 182, 205],\n",
              "          [ 35,  61, 110, ..., 103, 186, 202]],\n",
              " \n",
              "         [[ 14,  83,  19, ...,  93, 200, 210],\n",
              "          [ 25,  73,  52, ...,  80, 199, 211],\n",
              "          [ 22,  64, 106, ..., 106, 201, 208]],\n",
              " \n",
              "         [[ 14,  74,  25, ..., 111, 218, 220],\n",
              "          [ 20,  69,  56, ...,  98, 217, 221],\n",
              "          [ 17,  59, 111, ..., 124, 218, 217]],\n",
              " \n",
              "         ...,\n",
              " \n",
              "         [[ 40,  89,  63, ..., 181, 227, 201],\n",
              "          [ 39,  82, 137, ..., 180, 228, 199],\n",
              "          [ 50,  64, 208, ..., 184, 223, 193]],\n",
              " \n",
              "         [[ 67,  88,  91, ..., 177, 227, 195],\n",
              "          [ 58,  79, 153, ..., 176, 226, 191],\n",
              "          [ 52,  70, 214, ..., 180, 222, 186]],\n",
              " \n",
              "         [[ 83,  88, 130, ..., 183, 228, 196],\n",
              "          [ 78,  81, 180, ..., 182, 224, 190],\n",
              "          [ 60,  67, 229, ..., 187, 221, 186]]],\n",
              " \n",
              " \n",
              "        [[[ 40,  83,  21, ...,  99, 171, 198],\n",
              "          [ 41,  76,  53, ...,  84, 170, 198],\n",
              "          [ 38,  60, 110, ..., 112, 175, 197]],\n",
              " \n",
              "         [[ 18,  78,  20, ...,  94, 189, 202],\n",
              "          [ 21,  77,  51, ...,  81, 189, 202],\n",
              "          [ 26,  58, 106, ..., 110, 193, 201]],\n",
              " \n",
              "         [[ 16,  61,  22, ..., 107, 213, 212],\n",
              "          [ 17,  50,  52, ...,  94, 213, 211],\n",
              "          [ 23,  54, 106, ..., 123, 215, 210]],\n",
              " \n",
              "         ...,\n",
              " \n",
              "         [[ 23,  90,  79, ..., 167, 231, 203],\n",
              "          [ 29,  85, 147, ..., 166, 230, 200],\n",
              "          [ 45,  63, 210, ..., 171, 226, 196]],\n",
              " \n",
              "         [[ 35,  88, 125, ..., 172, 229, 198],\n",
              "          [ 42,  83, 181, ..., 171, 226, 194],\n",
              "          [ 44,  66, 230, ..., 176, 223, 191]],\n",
              " \n",
              "         [[ 72,  85, 178, ..., 185, 227, 195],\n",
              "          [ 69,  82, 218, ..., 184, 223, 190],\n",
              "          [ 53,  70, 254, ..., 189, 220, 187]]],\n",
              " \n",
              " \n",
              "        ...,\n",
              " \n",
              " \n",
              "        [[[ 86, 100,  88, ...,  99, 187, 233],\n",
              "          [ 81,  98, 162, ...,  94, 185, 226],\n",
              "          [ 75,  72, 237, ..., 110, 186, 228]],\n",
              " \n",
              "         [[ 87,  98,  89, ...,  96, 204, 230],\n",
              "          [ 82,  94, 163, ...,  91, 202, 224],\n",
              "          [ 71,  76, 238, ..., 109, 199, 225]],\n",
              " \n",
              "         [[ 82,  95,  84, ..., 108, 217, 228],\n",
              "          [ 79,  93, 156, ..., 103, 217, 223],\n",
              "          [ 65,  73, 230, ..., 124, 210, 221]],\n",
              " \n",
              "         ...,\n",
              " \n",
              "         [[104, 104,  62, ..., 210, 204, 198],\n",
              "          [104, 104, 142, ..., 207, 200, 196],\n",
              "          [ 87,  86, 227, ..., 204, 195, 190]],\n",
              " \n",
              "         [[104, 102,  67, ..., 206, 196, 184],\n",
              "          [105, 102, 144, ..., 202, 193, 183],\n",
              "          [ 81,  87, 226, ..., 200, 189, 177]],\n",
              " \n",
              "         [[103, 100,  74, ..., 203, 196, 189],\n",
              "          [105, 101, 145, ..., 197, 193, 187],\n",
              "          [ 78,  78, 225, ..., 199, 189, 182]]],\n",
              " \n",
              " \n",
              "        [[[ 84, 103,  88, ...,  94, 186, 231],\n",
              "          [ 86, 104, 164, ...,  91, 184, 226],\n",
              "          [ 64,  79, 240, ..., 103, 185, 228]],\n",
              " \n",
              "         [[ 86, 106,  87, ...,  94, 198, 229],\n",
              "          [ 79, 104, 160, ...,  91, 197, 224],\n",
              "          [ 72,  79, 237, ..., 104, 194, 225]],\n",
              " \n",
              "         [[ 82, 103,  88, ..., 110, 211, 227],\n",
              "          [ 76, 103, 159, ..., 107, 211, 223],\n",
              "          [ 72,  87, 237, ..., 121, 204, 222]],\n",
              " \n",
              "         ...,\n",
              " \n",
              "         [[110, 103,  60, ..., 219, 222, 195],\n",
              "          [103, 104, 141, ..., 218, 216, 194],\n",
              "          [ 84,  86, 230, ..., 215, 212, 186]],\n",
              " \n",
              "         [[106, 103,  61, ..., 218, 214, 181],\n",
              "          [105, 103, 141, ..., 215, 209, 181],\n",
              "          [ 85,  87, 228, ..., 212, 205, 173]],\n",
              " \n",
              "         [[106, 105,  65, ..., 212, 208, 186],\n",
              "          [104,  99, 143, ..., 209, 205, 183],\n",
              "          [ 86,  81, 226, ..., 209, 200, 177]]],\n",
              " \n",
              " \n",
              "        [[[ 85, 103,  84, ...,  88, 190, 230],\n",
              "          [ 88, 106, 160, ...,  87, 188, 226],\n",
              "          [ 68,  82, 238, ...,  94, 190, 227]],\n",
              " \n",
              "         [[ 89, 103,  81, ...,  85, 199, 230],\n",
              "          [ 82, 105, 154, ...,  84, 197, 226],\n",
              "          [ 72,  87, 233, ...,  93, 194, 227]],\n",
              " \n",
              "         [[ 85, 104,  87, ..., 105, 208, 229],\n",
              "          [ 79, 106, 158, ..., 103, 208, 225],\n",
              "          [ 67,  91, 238, ..., 114, 201, 226]],\n",
              " \n",
              "         ...,\n",
              " \n",
              "         [[111, 113,  63, ..., 217, 232, 190],\n",
              "          [104, 103, 144, ..., 217, 227, 190],\n",
              "          [ 87,  88, 235, ..., 214, 223, 181]],\n",
              " \n",
              "         [[109, 104,  62, ..., 221, 226, 178],\n",
              "          [105, 104, 143, ..., 220, 221, 177],\n",
              "          [ 86,  88, 232, ..., 219, 216, 169]],\n",
              " \n",
              "         [[103, 103,  63, ..., 218, 218, 181],\n",
              "          [106,  98, 145, ..., 217, 213, 178],\n",
              "          [ 79,  80, 231, ..., 218, 209, 171]]]], dtype=uint8),\n",
              " '__globals__': [],\n",
              " '__header__': b'MATLAB 5.0 MAT-file, Platform: GLNXA64, Created on: Mon Dec  5 21:09:26 2011',\n",
              " '__version__': '1.0',\n",
              " 'y': array([[1],\n",
              "        [9],\n",
              "        [2],\n",
              "        ...,\n",
              "        [1],\n",
              "        [6],\n",
              "        [9]], dtype=uint8)}"
            ]
          },
          "metadata": {
            "tags": []
          },
          "execution_count": 6
        }
      ]
    },
    {
      "cell_type": "code",
      "metadata": {
        "id": "-_1L6zP2K6EB",
        "colab_type": "code",
        "colab": {
          "base_uri": "https://localhost:8080/",
          "height": 1000
        },
        "outputId": "121df00b-5924-4821-fc65-a21bdab4fc1d"
      },
      "source": [
        "test"
      ],
      "execution_count": 7,
      "outputs": [
        {
          "output_type": "execute_result",
          "data": {
            "text/plain": [
              "{'X': array([[[[ 38, 129, 150, ..., 115,  96, 101],\n",
              "          [103, 142, 160, ..., 132,  65,  75],\n",
              "          [ 60, 153, 169, ..., 142,  47,  60]],\n",
              " \n",
              "         [[ 39, 127, 150, ..., 116,  97, 100],\n",
              "          [104, 143, 163, ..., 133,  65,  73],\n",
              "          [ 61, 152, 170, ..., 143,  49,  60]],\n",
              " \n",
              "         [[ 39, 125, 152, ..., 117,  97,  99],\n",
              "          [104, 143, 168, ..., 134,  65,  71],\n",
              "          [ 62, 151, 172, ..., 144,  50,  59]],\n",
              " \n",
              "         ...,\n",
              " \n",
              "         [[ 41, 121, 153, ..., 114,  86,  95],\n",
              "          [102, 133, 172, ..., 136,  61,  63],\n",
              "          [ 61, 153, 180, ..., 141,  54,  52]],\n",
              " \n",
              "         [[ 42, 123, 150, ..., 114,  87,  95],\n",
              "          [103, 134, 171, ..., 136,  62,  63],\n",
              "          [ 62, 156, 181, ..., 142,  55,  52]],\n",
              " \n",
              "         [[ 39, 123, 147, ..., 115,  88,  96],\n",
              "          [ 97, 135, 169, ..., 136,  63,  64],\n",
              "          [ 57, 157, 180, ..., 143,  56,  51]]],\n",
              " \n",
              " \n",
              "        [[[ 39, 134, 150, ..., 122,  96, 109],\n",
              "          [104, 150, 160, ..., 139,  65,  84],\n",
              "          [ 61, 160, 169, ..., 148,  48,  69]],\n",
              " \n",
              "         [[ 39, 133, 151, ..., 123,  97, 107],\n",
              "          [104, 149, 163, ..., 140,  65,  80],\n",
              "          [ 61, 158, 169, ..., 149,  50,  67]],\n",
              " \n",
              "         [[ 39, 132, 153, ..., 124,  97, 104],\n",
              "          [104, 149, 168, ..., 141,  65,  76],\n",
              "          [ 62, 157, 171, ..., 150,  51,  64]],\n",
              " \n",
              "         ...,\n",
              " \n",
              "         [[ 41, 127, 156, ..., 118,  85,  95],\n",
              "          [102, 138, 174, ..., 139,  62,  62],\n",
              "          [ 61, 157, 180, ..., 143,  53,  53]],\n",
              " \n",
              "         [[ 43, 126, 153, ..., 118,  87,  93],\n",
              "          [101, 137, 171, ..., 139,  63,  61],\n",
              "          [ 63, 157, 180, ..., 145,  54,  50]],\n",
              " \n",
              "         [[ 39, 125, 150, ..., 119,  88,  93],\n",
              "          [ 97, 137, 169, ..., 139,  64,  61],\n",
              "          [ 57, 158, 179, ..., 146,  55,  49]]],\n",
              " \n",
              " \n",
              "        [[[ 38, 141, 144, ..., 131,  96, 117],\n",
              "          [105, 158, 154, ..., 148,  64,  95],\n",
              "          [ 62, 168, 163, ..., 155,  49,  78]],\n",
              " \n",
              "         [[ 37, 140, 146, ..., 132,  96, 114],\n",
              "          [104, 157, 157, ..., 149,  64,  90],\n",
              "          [ 61, 166, 163, ..., 156,  50,  75]],\n",
              " \n",
              "         [[ 39, 140, 148, ..., 133,  96, 108],\n",
              "          [106, 157, 162, ..., 149,  64,  83],\n",
              "          [ 63, 165, 165, ..., 157,  51,  70]],\n",
              " \n",
              "         ...,\n",
              " \n",
              "         [[ 43, 135, 157, ..., 125,  87,  95],\n",
              "          [101, 147, 172, ..., 143,  66,  62],\n",
              "          [ 63, 163, 177, ..., 147,  54,  53]],\n",
              " \n",
              "         [[ 43, 132, 153, ..., 125,  90,  92],\n",
              "          [100, 143, 168, ..., 143,  68,  60],\n",
              "          [ 64, 161, 175, ..., 149,  57,  50]],\n",
              " \n",
              "         [[ 39, 130, 150, ..., 126,  91,  91],\n",
              "          [ 97, 141, 165, ..., 144,  69,  59],\n",
              "          [ 59, 160, 173, ..., 150,  58,  48]]],\n",
              " \n",
              " \n",
              "        ...,\n",
              " \n",
              " \n",
              "        [[[ 52, 147, 135, ...,  94,  99, 116],\n",
              "          [119, 161, 150, ...,  97,  68,  96],\n",
              "          [ 78, 174, 167, ..., 114,  48,  85]],\n",
              " \n",
              "         [[ 53, 142, 134, ...,  93,  99, 116],\n",
              "          [120, 156, 149, ...,  96,  70,  96],\n",
              "          [ 79, 169, 166, ..., 113,  50,  87]],\n",
              " \n",
              "         [[ 51, 136, 132, ...,  92, 100, 115],\n",
              "          [118, 151, 147, ...,  95,  73,  95],\n",
              "          [ 77, 163, 165, ..., 112,  53,  87]],\n",
              " \n",
              "         ...,\n",
              " \n",
              "         [[ 44,  93, 124, ..., 140, 138, 101],\n",
              "          [118,  97, 140, ..., 153, 121,  70],\n",
              "          [ 69, 126, 157, ..., 162, 105,  50]],\n",
              " \n",
              "         [[ 44,  96, 122, ..., 142, 127, 101],\n",
              "          [117, 100, 139, ..., 155, 109,  70],\n",
              "          [ 71, 128, 157, ..., 164,  93,  50]],\n",
              " \n",
              "         [[ 41, 104, 121, ..., 144, 117, 101],\n",
              "          [114, 109, 138, ..., 157,  98,  70],\n",
              "          [ 69, 136, 158, ..., 165,  83,  50]]],\n",
              " \n",
              " \n",
              "        [[[ 50, 138, 147, ..., 117,  98, 104],\n",
              "          [117, 152, 165, ..., 122,  67,  83],\n",
              "          [ 76, 165, 179, ..., 137,  46,  71]],\n",
              " \n",
              "         [[ 51, 130, 147, ..., 117,  99, 105],\n",
              "          [118, 144, 164, ..., 122,  70,  84],\n",
              "          [ 77, 157, 179, ..., 137,  48,  73]],\n",
              " \n",
              "         [[ 49, 121, 147, ..., 118, 100, 105],\n",
              "          [116, 136, 164, ..., 123,  73,  84],\n",
              "          [ 75, 148, 179, ..., 137,  51,  74]],\n",
              " \n",
              "         ...,\n",
              " \n",
              "         [[ 44,  93, 139, ..., 141, 126, 101],\n",
              "          [117,  99, 155, ..., 154, 108,  70],\n",
              "          [ 71, 128, 170, ..., 163,  92,  49]],\n",
              " \n",
              "         [[ 45, 101, 139, ..., 143, 118, 102],\n",
              "          [116, 107, 155, ..., 156,  99,  71],\n",
              "          [ 72, 134, 170, ..., 164,  83,  50]],\n",
              " \n",
              "         [[ 42, 112, 138, ..., 144, 110, 102],\n",
              "          [113, 118, 155, ..., 157,  91,  71],\n",
              "          [ 69, 144, 171, ..., 165,  75,  50]]],\n",
              " \n",
              " \n",
              "        [[[ 48, 131, 159, ..., 132,  97,  95],\n",
              "          [115, 145, 177, ..., 138,  66,  73],\n",
              "          [ 74, 158, 189, ..., 152,  45,  62]],\n",
              " \n",
              "         [[ 48, 122, 159, ..., 133,  99,  96],\n",
              "          [115, 136, 177, ..., 140,  69,  74],\n",
              "          [ 74, 149, 190, ..., 152,  48,  63]],\n",
              " \n",
              "         [[ 46, 111, 159, ..., 135, 100,  97],\n",
              "          [113, 126, 177, ..., 142,  72,  75],\n",
              "          [ 72, 139, 191, ..., 153,  51,  64]],\n",
              " \n",
              "         ...,\n",
              " \n",
              "         [[ 43, 101, 152, ..., 142, 118, 101],\n",
              "          [116, 108, 168, ..., 155,  99,  70],\n",
              "          [ 71, 135, 181, ..., 164,  82,  49]],\n",
              " \n",
              "         [[ 44, 111, 152, ..., 143, 111, 102],\n",
              "          [115, 118, 168, ..., 156,  92,  71],\n",
              "          [ 71, 144, 182, ..., 165,  74,  50]],\n",
              " \n",
              "         [[ 42, 123, 152, ..., 144, 104, 102],\n",
              "          [113, 130, 168, ..., 157,  85,  71],\n",
              "          [ 71, 156, 183, ..., 165,  68,  50]]]], dtype=uint8),\n",
              " '__globals__': [],\n",
              " '__header__': b'MATLAB 5.0 MAT-file, Platform: GLNXA64, Created on: Mon Dec  5 21:18:15 2011',\n",
              " '__version__': '1.0',\n",
              " 'y': array([[5],\n",
              "        [2],\n",
              "        [1],\n",
              "        ...,\n",
              "        [7],\n",
              "        [6],\n",
              "        [7]], dtype=uint8)}"
            ]
          },
          "metadata": {
            "tags": []
          },
          "execution_count": 7
        }
      ]
    },
    {
      "cell_type": "code",
      "metadata": {
        "id": "oNuPMQmcr3r3",
        "colab_type": "code",
        "outputId": "40a3fbae-6317-4d5e-b075-ddb76d97cb0f",
        "colab": {
          "base_uri": "https://localhost:8080/",
          "height": 34
        }
      },
      "source": [
        "train['X'].shape"
      ],
      "execution_count": 8,
      "outputs": [
        {
          "output_type": "execute_result",
          "data": {
            "text/plain": [
              "(32, 32, 3, 73257)"
            ]
          },
          "metadata": {
            "tags": []
          },
          "execution_count": 8
        }
      ]
    },
    {
      "cell_type": "code",
      "metadata": {
        "id": "kALvBByqwAoi",
        "colab_type": "code",
        "colab": {
          "base_uri": "https://localhost:8080/",
          "height": 879
        },
        "outputId": "f37d6c31-2084-488a-c512-0c82df8ad5b1"
      },
      "source": [
        "train['X'][:,:,:,0]"
      ],
      "execution_count": 9,
      "outputs": [
        {
          "output_type": "execute_result",
          "data": {
            "text/plain": [
              "array([[[ 33,  30,  38],\n",
              "        [ 15,  23,  19],\n",
              "        [ 15,  17,  19],\n",
              "        ...,\n",
              "        [ 72,  65,  56],\n",
              "        [ 82,  77,  57],\n",
              "        [ 89,  79,  59]],\n",
              "\n",
              "       [[ 28,  39,  35],\n",
              "        [ 14,  25,  22],\n",
              "        [ 14,  20,  17],\n",
              "        ...,\n",
              "        [ 40,  39,  50],\n",
              "        [ 67,  58,  52],\n",
              "        [ 83,  78,  60]],\n",
              "\n",
              "       [[ 40,  41,  38],\n",
              "        [ 18,  21,  26],\n",
              "        [ 16,  17,  23],\n",
              "        ...,\n",
              "        [ 23,  29,  45],\n",
              "        [ 35,  42,  44],\n",
              "        [ 72,  69,  53]],\n",
              "\n",
              "       ...,\n",
              "\n",
              "       [[ 86,  81,  75],\n",
              "        [ 87,  82,  71],\n",
              "        [ 82,  79,  65],\n",
              "        ...,\n",
              "        [104, 104,  87],\n",
              "        [104, 105,  81],\n",
              "        [103, 105,  78]],\n",
              "\n",
              "       [[ 84,  86,  64],\n",
              "        [ 86,  79,  72],\n",
              "        [ 82,  76,  72],\n",
              "        ...,\n",
              "        [110, 103,  84],\n",
              "        [106, 105,  85],\n",
              "        [106, 104,  86]],\n",
              "\n",
              "       [[ 85,  88,  68],\n",
              "        [ 89,  82,  72],\n",
              "        [ 85,  79,  67],\n",
              "        ...,\n",
              "        [111, 104,  87],\n",
              "        [109, 105,  86],\n",
              "        [103, 106,  79]]], dtype=uint8)"
            ]
          },
          "metadata": {
            "tags": []
          },
          "execution_count": 9
        }
      ]
    },
    {
      "cell_type": "code",
      "metadata": {
        "id": "XAlePNo-fjOp",
        "colab_type": "code",
        "colab": {
          "base_uri": "https://localhost:8080/",
          "height": 34
        },
        "outputId": "13b34b27-7e29-4925-9bee-715c3e013240"
      },
      "source": [
        "train['X'][:,:,:,0].shape"
      ],
      "execution_count": 10,
      "outputs": [
        {
          "output_type": "execute_result",
          "data": {
            "text/plain": [
              "(32, 32, 3)"
            ]
          },
          "metadata": {
            "tags": []
          },
          "execution_count": 10
        }
      ]
    },
    {
      "cell_type": "code",
      "metadata": {
        "id": "G6pTYma1wRa_",
        "colab_type": "code",
        "outputId": "a9ca242f-4a5d-4072-edc8-865b7f09d05b",
        "colab": {
          "base_uri": "https://localhost:8080/",
          "height": 34
        }
      },
      "source": [
        "train['y'].shape"
      ],
      "execution_count": 11,
      "outputs": [
        {
          "output_type": "execute_result",
          "data": {
            "text/plain": [
              "(73257, 1)"
            ]
          },
          "metadata": {
            "tags": []
          },
          "execution_count": 11
        }
      ]
    },
    {
      "cell_type": "code",
      "metadata": {
        "id": "jezBTcbTLEUt",
        "colab_type": "code",
        "outputId": "2dafee88-51ad-479c-80de-47fb98698d2c",
        "colab": {
          "base_uri": "https://localhost:8080/",
          "height": 140
        }
      },
      "source": [
        "train['y'] > 9"
      ],
      "execution_count": 12,
      "outputs": [
        {
          "output_type": "execute_result",
          "data": {
            "text/plain": [
              "array([[False],\n",
              "       [False],\n",
              "       [False],\n",
              "       ...,\n",
              "       [False],\n",
              "       [False],\n",
              "       [False]])"
            ]
          },
          "metadata": {
            "tags": []
          },
          "execution_count": 12
        }
      ]
    },
    {
      "cell_type": "code",
      "metadata": {
        "id": "xEbSKfYB0dRa",
        "colab_type": "code",
        "outputId": "fd9906d9-6a63-434d-dd95-c8009dd8fb71",
        "colab": {
          "base_uri": "https://localhost:8080/",
          "height": 34
        }
      },
      "source": [
        "sum(train['y'] > 9)"
      ],
      "execution_count": 13,
      "outputs": [
        {
          "output_type": "execute_result",
          "data": {
            "text/plain": [
              "array([4948])"
            ]
          },
          "metadata": {
            "tags": []
          },
          "execution_count": 13
        }
      ]
    },
    {
      "cell_type": "code",
      "metadata": {
        "id": "gP-Yw0eeMpjU",
        "colab_type": "code",
        "colab": {}
      },
      "source": [
        "import numpy as np"
      ],
      "execution_count": 0,
      "outputs": []
    },
    {
      "cell_type": "code",
      "metadata": {
        "id": "Yyrud4acMA6m",
        "colab_type": "code",
        "colab": {}
      },
      "source": [
        "value_10_index = np.where(train['y'] > 9)"
      ],
      "execution_count": 0,
      "outputs": []
    },
    {
      "cell_type": "code",
      "metadata": {
        "id": "UwshK4x6MtfC",
        "colab_type": "code",
        "outputId": "749d132f-0530-4734-8a81-80a75f2c1a2e",
        "colab": {
          "base_uri": "https://localhost:8080/",
          "height": 52
        }
      },
      "source": [
        "value_10_index"
      ],
      "execution_count": 16,
      "outputs": [
        {
          "output_type": "execute_result",
          "data": {
            "text/plain": [
              "(array([   52,    84,    93, ..., 73193, 73220, 73239]),\n",
              " array([0, 0, 0, ..., 0, 0, 0]))"
            ]
          },
          "metadata": {
            "tags": []
          },
          "execution_count": 16
        }
      ]
    },
    {
      "cell_type": "code",
      "metadata": {
        "id": "rOc27GWdM1-V",
        "colab_type": "code",
        "colab": {}
      },
      "source": [
        "train['y'][value_10_index] = 0"
      ],
      "execution_count": 0,
      "outputs": []
    },
    {
      "cell_type": "code",
      "metadata": {
        "id": "-agpjbxmPn6j",
        "colab_type": "code",
        "colab": {
          "base_uri": "https://localhost:8080/",
          "height": 1000
        },
        "outputId": "595a444a-90d3-413a-9a5b-89ec737270d9"
      },
      "source": [
        "train['y'][:100]"
      ],
      "execution_count": 18,
      "outputs": [
        {
          "output_type": "execute_result",
          "data": {
            "text/plain": [
              "array([[1],\n",
              "       [9],\n",
              "       [2],\n",
              "       [3],\n",
              "       [2],\n",
              "       [5],\n",
              "       [9],\n",
              "       [3],\n",
              "       [3],\n",
              "       [1],\n",
              "       [3],\n",
              "       [3],\n",
              "       [2],\n",
              "       [8],\n",
              "       [7],\n",
              "       [4],\n",
              "       [4],\n",
              "       [1],\n",
              "       [2],\n",
              "       [8],\n",
              "       [1],\n",
              "       [6],\n",
              "       [2],\n",
              "       [3],\n",
              "       [6],\n",
              "       [3],\n",
              "       [4],\n",
              "       [2],\n",
              "       [5],\n",
              "       [8],\n",
              "       [1],\n",
              "       [6],\n",
              "       [2],\n",
              "       [3],\n",
              "       [7],\n",
              "       [9],\n",
              "       [5],\n",
              "       [3],\n",
              "       [2],\n",
              "       [2],\n",
              "       [2],\n",
              "       [6],\n",
              "       [2],\n",
              "       [2],\n",
              "       [5],\n",
              "       [1],\n",
              "       [5],\n",
              "       [4],\n",
              "       [7],\n",
              "       [8],\n",
              "       [9],\n",
              "       [6],\n",
              "       [0],\n",
              "       [1],\n",
              "       [2],\n",
              "       [4],\n",
              "       [5],\n",
              "       [6],\n",
              "       [5],\n",
              "       [2],\n",
              "       [1],\n",
              "       [3],\n",
              "       [2],\n",
              "       [1],\n",
              "       [4],\n",
              "       [6],\n",
              "       [3],\n",
              "       [8],\n",
              "       [4],\n",
              "       [3],\n",
              "       [1],\n",
              "       [4],\n",
              "       [4],\n",
              "       [2],\n",
              "       [6],\n",
              "       [4],\n",
              "       [4],\n",
              "       [1],\n",
              "       [1],\n",
              "       [1],\n",
              "       [7],\n",
              "       [3],\n",
              "       [1],\n",
              "       [2],\n",
              "       [0],\n",
              "       [4],\n",
              "       [2],\n",
              "       [2],\n",
              "       [5],\n",
              "       [1],\n",
              "       [2],\n",
              "       [9],\n",
              "       [2],\n",
              "       [0],\n",
              "       [4],\n",
              "       [1],\n",
              "       [0],\n",
              "       [3],\n",
              "       [2],\n",
              "       [7]], dtype=uint8)"
            ]
          },
          "metadata": {
            "tags": []
          },
          "execution_count": 18
        }
      ]
    },
    {
      "cell_type": "code",
      "metadata": {
        "id": "h46G2MfOP9s-",
        "colab_type": "code",
        "outputId": "3e76a1df-5052-49b8-9d5b-0342129eda90",
        "colab": {
          "base_uri": "https://localhost:8080/",
          "height": 34
        }
      },
      "source": [
        "sum(train['y'] < 1)"
      ],
      "execution_count": 19,
      "outputs": [
        {
          "output_type": "execute_result",
          "data": {
            "text/plain": [
              "array([4948])"
            ]
          },
          "metadata": {
            "tags": []
          },
          "execution_count": 19
        }
      ]
    },
    {
      "cell_type": "code",
      "metadata": {
        "id": "scbCECKnNuoS",
        "colab_type": "code",
        "colab": {
          "base_uri": "https://localhost:8080/",
          "height": 34
        },
        "outputId": "f0dcdde4-b2c5-4c07-80d4-e3f70eaf593e"
      },
      "source": [
        "sum(test['y'] > 9)"
      ],
      "execution_count": 20,
      "outputs": [
        {
          "output_type": "execute_result",
          "data": {
            "text/plain": [
              "array([1744])"
            ]
          },
          "metadata": {
            "tags": []
          },
          "execution_count": 20
        }
      ]
    },
    {
      "cell_type": "code",
      "metadata": {
        "id": "oZ9CwvXdgr2s",
        "colab_type": "code",
        "colab": {}
      },
      "source": [
        "value_10_index_test = np.where(test['y'] > 9)"
      ],
      "execution_count": 0,
      "outputs": []
    },
    {
      "cell_type": "code",
      "metadata": {
        "id": "9XQkAFmegrrh",
        "colab_type": "code",
        "colab": {
          "base_uri": "https://localhost:8080/",
          "height": 52
        },
        "outputId": "f8130199-9ab5-4055-c076-b415db259cf7"
      },
      "source": [
        "value_10_index_test"
      ],
      "execution_count": 22,
      "outputs": [
        {
          "output_type": "execute_result",
          "data": {
            "text/plain": [
              "(array([    3,    21,    34, ..., 26006, 26011, 26021]),\n",
              " array([0, 0, 0, ..., 0, 0, 0]))"
            ]
          },
          "metadata": {
            "tags": []
          },
          "execution_count": 22
        }
      ]
    },
    {
      "cell_type": "code",
      "metadata": {
        "id": "jq5bziXQg7Lz",
        "colab_type": "code",
        "colab": {}
      },
      "source": [
        "test['y'][value_10_index_test] = 0"
      ],
      "execution_count": 0,
      "outputs": []
    },
    {
      "cell_type": "code",
      "metadata": {
        "id": "Y42UCtiYN3zR",
        "colab_type": "code",
        "colab": {
          "base_uri": "https://localhost:8080/",
          "height": 34
        },
        "outputId": "57c29aa4-f5a3-4258-e642-8863fdbfc0cd"
      },
      "source": [
        "sum(test['y'] < 1)"
      ],
      "execution_count": 24,
      "outputs": [
        {
          "output_type": "execute_result",
          "data": {
            "text/plain": [
              "array([1744])"
            ]
          },
          "metadata": {
            "tags": []
          },
          "execution_count": 24
        }
      ]
    },
    {
      "cell_type": "code",
      "metadata": {
        "id": "a2bCSyMyw0PZ",
        "colab_type": "code",
        "colab": {}
      },
      "source": [
        "import matplotlib.pyplot as plt\n",
        "import matplotlib.image as mpimg"
      ],
      "execution_count": 0,
      "outputs": []
    },
    {
      "cell_type": "code",
      "metadata": {
        "id": "nkjb457nw2p1",
        "colab_type": "code",
        "outputId": "a0fc4b2f-4fcb-44ff-8329-6f7a7ffc1589",
        "colab": {
          "base_uri": "https://localhost:8080/",
          "height": 266
        }
      },
      "source": [
        "imgplot = plt.imshow(train['X'][:,:,:,10])"
      ],
      "execution_count": 26,
      "outputs": [
        {
          "output_type": "display_data",
          "data": {
            "image/png": "[encoded data removed]",
            "text/plain": [
              "<Figure size 432x288 with 1 Axes>"
            ]
          },
          "metadata": {
            "tags": [],
            "needs_background": "light"
          }
        }
      ]
    },
    {
      "cell_type": "code",
      "metadata": {
        "id": "uQS7YYJ2hcjC",
        "colab_type": "code",
        "colab": {
          "base_uri": "https://localhost:8080/",
          "height": 284
        },
        "outputId": "bfa14aaa-53f8-4a37-ddbe-34863a15f466"
      },
      "source": [
        "plt.imshow(train['X'][:,:,0,10])"
      ],
      "execution_count": 27,
      "outputs": [
        {
          "output_type": "execute_result",
          "data": {
            "text/plain": [
              "<matplotlib.image.AxesImage at 0x7fcd32c0f6a0>"
            ]
          },
          "metadata": {
            "tags": []
          },
          "execution_count": 27
        },
        {
          "output_type": "display_data",
          "data": {
            "image/png": "[encoded data removed]",
            "text/plain": [
              "<Figure size 432x288 with 1 Axes>"
            ]
          },
          "metadata": {
            "tags": [],
            "needs_background": "light"
          }
        }
      ]
    },
    {
      "cell_type": "code",
      "metadata": {
        "id": "XFFSSHVEhcSc",
        "colab_type": "code",
        "colab": {
          "base_uri": "https://localhost:8080/",
          "height": 34
        },
        "outputId": "f90c7566-8959-46fa-a40f-18adf5caf7db"
      },
      "source": [
        "train['y'][10]"
      ],
      "execution_count": 28,
      "outputs": [
        {
          "output_type": "execute_result",
          "data": {
            "text/plain": [
              "array([3], dtype=uint8)"
            ]
          },
          "metadata": {
            "tags": []
          },
          "execution_count": 28
        }
      ]
    },
    {
      "cell_type": "code",
      "metadata": {
        "id": "wSqehykHiHT6",
        "colab_type": "code",
        "colab": {
          "base_uri": "https://localhost:8080/",
          "height": 284
        },
        "outputId": "5e71da84-ddce-4915-fae1-3765127deebe"
      },
      "source": [
        "plt.imshow(train['X'][:,:,:,0])"
      ],
      "execution_count": 29,
      "outputs": [
        {
          "output_type": "execute_result",
          "data": {
            "text/plain": [
              "<matplotlib.image.AxesImage at 0x7fcd331b0630>"
            ]
          },
          "metadata": {
            "tags": []
          },
          "execution_count": 29
        },
        {
          "output_type": "display_data",
          "data": {
            "image/png": "[encoded data removed]",
            "text/plain": [
              "<Figure size 432x288 with 1 Axes>"
            ]
          },
          "metadata": {
            "tags": [],
            "needs_background": "light"
          }
        }
      ]
    },
    {
      "cell_type": "code",
      "metadata": {
        "id": "_8URe4wuiHMv",
        "colab_type": "code",
        "colab": {
          "base_uri": "https://localhost:8080/",
          "height": 284
        },
        "outputId": "a23f7a25-0521-4d71-cea5-cad460b6e350"
      },
      "source": [
        "plt.imshow(train['X'][:,:,0,0])"
      ],
      "execution_count": 30,
      "outputs": [
        {
          "output_type": "execute_result",
          "data": {
            "text/plain": [
              "<matplotlib.image.AxesImage at 0x7fcd330e0080>"
            ]
          },
          "metadata": {
            "tags": []
          },
          "execution_count": 30
        },
        {
          "output_type": "display_data",
          "data": {
            "image/png": "[encoded data removed]",
            "text/plain": [
              "<Figure size 432x288 with 1 Axes>"
            ]
          },
          "metadata": {
            "tags": [],
            "needs_background": "light"
          }
        }
      ]
    },
    {
      "cell_type": "code",
      "metadata": {
        "id": "kNQirj5PiHEt",
        "colab_type": "code",
        "colab": {
          "base_uri": "https://localhost:8080/",
          "height": 34
        },
        "outputId": "2a757897-fffb-4460-f23e-a3b86b4769c5"
      },
      "source": [
        "train['y'][0]"
      ],
      "execution_count": 31,
      "outputs": [
        {
          "output_type": "execute_result",
          "data": {
            "text/plain": [
              "array([1], dtype=uint8)"
            ]
          },
          "metadata": {
            "tags": []
          },
          "execution_count": 31
        }
      ]
    },
    {
      "cell_type": "markdown",
      "metadata": {
        "id": "-bStn4zQ0--s",
        "colab_type": "text"
      },
      "source": [
        "coco dataset"
      ]
    },
    {
      "cell_type": "code",
      "metadata": {
        "id": "I0r4a12kgXuA",
        "colab_type": "code",
        "colab": {}
      },
      "source": [
        "# This code downloads the coco dataset from Amazon S3 in parallel.\n",
        "import boto3\n",
        "from botocore import UNSIGNED\n",
        "from botocore.client import Config\n",
        "import multiprocessing\n",
        "import subprocess\n",
        "\n",
        "#files = ['val2017.zip', 'annotations_trainval2017.zip', 'train2017.zip']\n",
        "files = ['val2017.zip', 'annotations_trainval2017.zip']\n",
        "\n",
        "s3 = boto3.client('s3', config=Config(signature_version=UNSIGNED))\n",
        "\n",
        "def download_and_unzip_from_s3(file_name, bucket_name='fast-ai-coco'):\n",
        "    print(\"Downloading\", file_name)\n",
        "    s3.download_file(bucket_name, file_name, file_name)\n",
        "    print(\"Finished downloading\", file_name, \". Starting to unzip.\")\n",
        "    subprocess.run([\"unzip\", file_name])\n",
        "    print(\"Finished unzipping\", file_name)\n",
        "\n"
      ],
      "execution_count": 0,
      "outputs": []
    },
    {
      "cell_type": "code",
      "metadata": {
        "id": "Kx0hszgUgu4z",
        "colab_type": "code",
        "outputId": "0fcf920d-f537-414a-f038-89e309bead24",
        "colab": {
          "base_uri": "https://localhost:8080/",
          "height": 140
        }
      },
      "source": [
        "# Download in parallel\n",
        "num_cpus = multiprocessing.cpu_count()\n",
        "with multiprocessing.Pool(num_cpus) as p:\n",
        "    p.map(download_and_unzip_from_s3, files)\n",
        "\n",
        "print(\"Done transferring all datasets\")"
      ],
      "execution_count": 33,
      "outputs": [
        {
          "output_type": "stream",
          "text": [
            "Downloading val2017.zip\n",
            "Downloading annotations_trainval2017.zip\n",
            "Finished downloading annotations_trainval2017.zip . Starting to unzip.\n",
            "Finished downloading val2017.zip . Starting to unzip.\n",
            "Finished unzipping annotations_trainval2017.zip\n",
            "Finished unzipping val2017.zip\n",
            "Done transferring all datasets\n"
          ],
          "name": "stdout"
        }
      ]
    },
    {
      "cell_type": "code",
      "metadata": {
        "id": "Dq96DYffPLex",
        "colab_type": "code",
        "colab": {}
      },
      "source": [
        "a = plt.imread('val2017/000000001503.jpg')"
      ],
      "execution_count": 0,
      "outputs": []
    },
    {
      "cell_type": "code",
      "metadata": {
        "id": "wp_v55TXPvCm",
        "colab_type": "code",
        "colab": {
          "base_uri": "https://localhost:8080/",
          "height": 286
        },
        "outputId": "2f4fdc53-536a-462e-9212-ba68bf13bf43"
      },
      "source": [
        "plt.imshow(a)"
      ],
      "execution_count": 47,
      "outputs": [
        {
          "output_type": "execute_result",
          "data": {
            "text/plain": [
              "<matplotlib.image.AxesImage at 0x7fcd306117b8>"
            ]
          },
          "metadata": {
            "tags": []
          },
          "execution_count": 47
        },
        {
          "output_type": "display_data",
          "data": {
            "image/png": "[encoded data removed]",
            "text/plain": [
              "<Figure size 432x288 with 1 Axes>"
            ]
          },
          "metadata": {
            "tags": [],
            "needs_background": "light"
          }
        }
      ]
    },
    {
      "cell_type": "code",
      "metadata": {
        "id": "w5ocpYRNlY13",
        "colab_type": "code",
        "colab": {}
      },
      "source": [
        "import json"
      ],
      "execution_count": 0,
      "outputs": []
    },
    {
      "cell_type": "code",
      "metadata": {
        "id": "1BDpd6BPlael",
        "colab_type": "code",
        "colab": {}
      },
      "source": [
        "with open(\"annotations/person_keypoints_val2017.json\", \"r\") as st_json:\n",
        "\n",
        "    st_python = json.load(st_json)"
      ],
      "execution_count": 0,
      "outputs": []
    },
    {
      "cell_type": "code",
      "metadata": {
        "id": "wNI32B7fxhho",
        "colab_type": "code",
        "outputId": "f8cfc52f-4022-49c6-815c-41c530110157",
        "colab": {
          "base_uri": "https://localhost:8080/",
          "height": 34
        }
      },
      "source": [
        "len(st_python)"
      ],
      "execution_count": 50,
      "outputs": [
        {
          "output_type": "execute_result",
          "data": {
            "text/plain": [
              "5"
            ]
          },
          "metadata": {
            "tags": []
          },
          "execution_count": 50
        }
      ]
    },
    {
      "cell_type": "code",
      "metadata": {
        "id": "n2xayMdLQ7Yr",
        "colab_type": "code",
        "colab": {}
      },
      "source": [
        "st_python"
      ],
      "execution_count": 0,
      "outputs": []
    },
    {
      "cell_type": "markdown",
      "metadata": {
        "id": "UdOLOgXJ382b",
        "colab_type": "text"
      },
      "source": [
        ""
      ]
    },
    {
      "cell_type": "code",
      "metadata": {
        "id": "x7bzF9_Gxn8D",
        "colab_type": "code",
        "outputId": "dc8302d0-6075-4b83-fc1c-73ad373c9ef8",
        "colab": {
          "base_uri": "https://localhost:8080/",
          "height": 34
        }
      },
      "source": [
        "st_python.keys()"
      ],
      "execution_count": 6,
      "outputs": [
        {
          "output_type": "execute_result",
          "data": {
            "text/plain": [
              "dict_keys(['info', 'licenses', 'images', 'annotations', 'categories'])"
            ]
          },
          "metadata": {
            "tags": []
          },
          "execution_count": 6
        }
      ]
    },
    {
      "cell_type": "code",
      "metadata": {
        "id": "ML1c2f88Rap7",
        "colab_type": "code",
        "colab": {
          "base_uri": "https://localhost:8080/",
          "height": 703
        },
        "outputId": "d20256e8-74fd-4575-bb16-dd10a2610a8e"
      },
      "source": [
        "st_python['categories']"
      ],
      "execution_count": 52,
      "outputs": [
        {
          "output_type": "execute_result",
          "data": {
            "text/plain": [
              "[{'id': 1,\n",
              "  'keypoints': ['nose',\n",
              "   'left_eye',\n",
              "   'right_eye',\n",
              "   'left_ear',\n",
              "   'right_ear',\n",
              "   'left_shoulder',\n",
              "   'right_shoulder',\n",
              "   'left_elbow',\n",
              "   'right_elbow',\n",
              "   'left_wrist',\n",
              "   'right_wrist',\n",
              "   'left_hip',\n",
              "   'right_hip',\n",
              "   'left_knee',\n",
              "   'right_knee',\n",
              "   'left_ankle',\n",
              "   'right_ankle'],\n",
              "  'name': 'person',\n",
              "  'skeleton': [[16, 14],\n",
              "   [14, 12],\n",
              "   [17, 15],\n",
              "   [15, 13],\n",
              "   [12, 13],\n",
              "   [6, 12],\n",
              "   [7, 13],\n",
              "   [6, 7],\n",
              "   [6, 8],\n",
              "   [7, 9],\n",
              "   [8, 10],\n",
              "   [9, 11],\n",
              "   [2, 3],\n",
              "   [1, 2],\n",
              "   [1, 3],\n",
              "   [2, 4],\n",
              "   [3, 5],\n",
              "   [4, 6],\n",
              "   [5, 7]],\n",
              "  'supercategory': 'person'}]"
            ]
          },
          "metadata": {
            "tags": []
          },
          "execution_count": 52
        }
      ]
    },
    {
      "cell_type": "code",
      "metadata": {
        "id": "LyOHLIb1ybPz",
        "colab_type": "code",
        "outputId": "a95e4eb2-e547-4632-b74e-0f845ae04bdf",
        "colab": {
          "base_uri": "https://localhost:8080/",
          "height": 316
        }
      },
      "source": [
        "st_python['categories'][0]['keypoints']"
      ],
      "execution_count": 60,
      "outputs": [
        {
          "output_type": "execute_result",
          "data": {
            "text/plain": [
              "['nose',\n",
              " 'left_eye',\n",
              " 'right_eye',\n",
              " 'left_ear',\n",
              " 'right_ear',\n",
              " 'left_shoulder',\n",
              " 'right_shoulder',\n",
              " 'left_elbow',\n",
              " 'right_elbow',\n",
              " 'left_wrist',\n",
              " 'right_wrist',\n",
              " 'left_hip',\n",
              " 'right_hip',\n",
              " 'left_knee',\n",
              " 'right_knee',\n",
              " 'left_ankle',\n",
              " 'right_ankle']"
            ]
          },
          "metadata": {
            "tags": []
          },
          "execution_count": 60
        }
      ]
    },
    {
      "cell_type": "code",
      "metadata": {
        "id": "EAN2jzv2SSiv",
        "colab_type": "code",
        "colab": {}
      },
      "source": [
        "st_python['annotations']"
      ],
      "execution_count": 0,
      "outputs": []
    },
    {
      "cell_type": "code",
      "metadata": {
        "id": "3Q7jZB-azEQR",
        "colab_type": "code",
        "colab": {
          "base_uri": "https://localhost:8080/",
          "height": 1000
        },
        "outputId": "a864e63b-4782-4a32-803b-c0863a72bf9c"
      },
      "source": [
        "st_python['annotations'][0]"
      ],
      "execution_count": 61,
      "outputs": [
        {
          "output_type": "execute_result",
          "data": {
            "text/plain": [
              "{'area': 47803.27955,\n",
              " 'bbox': [73.35, 206.02, 300.58, 372.5],\n",
              " 'category_id': 1,\n",
              " 'id': 183126,\n",
              " 'image_id': 425226,\n",
              " 'iscrowd': 0,\n",
              " 'keypoints': [0,\n",
              "  0,\n",
              "  0,\n",
              "  0,\n",
              "  0,\n",
              "  0,\n",
              "  0,\n",
              "  0,\n",
              "  0,\n",
              "  0,\n",
              "  0,\n",
              "  0,\n",
              "  0,\n",
              "  0,\n",
              "  0,\n",
              "  142,\n",
              "  309,\n",
              "  1,\n",
              "  177,\n",
              "  320,\n",
              "  2,\n",
              "  191,\n",
              "  398,\n",
              "  2,\n",
              "  237,\n",
              "  317,\n",
              "  2,\n",
              "  233,\n",
              "  426,\n",
              "  2,\n",
              "  306,\n",
              "  233,\n",
              "  2,\n",
              "  92,\n",
              "  452,\n",
              "  2,\n",
              "  123,\n",
              "  468,\n",
              "  2,\n",
              "  0,\n",
              "  0,\n",
              "  0,\n",
              "  251,\n",
              "  469,\n",
              "  2,\n",
              "  0,\n",
              "  0,\n",
              "  0,\n",
              "  162,\n",
              "  551,\n",
              "  2],\n",
              " 'num_keypoints': 10,\n",
              " 'segmentation': [[125.12,\n",
              "   539.69,\n",
              "   140.94,\n",
              "   522.43,\n",
              "   100.67,\n",
              "   496.54,\n",
              "   84.85,\n",
              "   469.21,\n",
              "   73.35,\n",
              "   450.52,\n",
              "   104.99,\n",
              "   342.65,\n",
              "   168.27,\n",
              "   290.88,\n",
              "   179.78,\n",
              "   288,\n",
              "   189.84,\n",
              "   286.56,\n",
              "   191.28,\n",
              "   260.67,\n",
              "   202.79,\n",
              "   240.54,\n",
              "   221.48,\n",
              "   237.66,\n",
              "   248.81,\n",
              "   243.42,\n",
              "   257.44,\n",
              "   256.36,\n",
              "   253.12,\n",
              "   262.11,\n",
              "   253.12,\n",
              "   275.06,\n",
              "   299.15,\n",
              "   233.35,\n",
              "   329.35,\n",
              "   207.46,\n",
              "   355.24,\n",
              "   206.02,\n",
              "   363.87,\n",
              "   206.02,\n",
              "   365.3,\n",
              "   210.34,\n",
              "   373.93,\n",
              "   221.84,\n",
              "   363.87,\n",
              "   226.16,\n",
              "   363.87,\n",
              "   237.66,\n",
              "   350.92,\n",
              "   237.66,\n",
              "   332.22,\n",
              "   234.79,\n",
              "   314.97,\n",
              "   249.17,\n",
              "   271.82,\n",
              "   313.89,\n",
              "   253.12,\n",
              "   326.83,\n",
              "   227.24,\n",
              "   352.72,\n",
              "   214.29,\n",
              "   357.03,\n",
              "   212.85,\n",
              "   372.85,\n",
              "   208.54,\n",
              "   395.87,\n",
              "   228.67,\n",
              "   414.56,\n",
              "   245.93,\n",
              "   421.75,\n",
              "   266.07,\n",
              "   424.63,\n",
              "   276.13,\n",
              "   437.57,\n",
              "   266.07,\n",
              "   450.52,\n",
              "   284.76,\n",
              "   464.9,\n",
              "   286.2,\n",
              "   479.28,\n",
              "   291.96,\n",
              "   489.35,\n",
              "   310.65,\n",
              "   512.36,\n",
              "   284.76,\n",
              "   549.75,\n",
              "   244.49,\n",
              "   522.43,\n",
              "   215.73,\n",
              "   546.88,\n",
              "   199.91,\n",
              "   558.38,\n",
              "   204.22,\n",
              "   565.57,\n",
              "   189.84,\n",
              "   568.45,\n",
              "   184.09,\n",
              "   575.64,\n",
              "   172.58,\n",
              "   578.52,\n",
              "   145.26,\n",
              "   567.01,\n",
              "   117.93,\n",
              "   551.19,\n",
              "   133.75,\n",
              "   532.49]]}"
            ]
          },
          "metadata": {
            "tags": []
          },
          "execution_count": 61
        }
      ]
    },
    {
      "cell_type": "code",
      "metadata": {
        "id": "to392Pf9S-2H",
        "colab_type": "code",
        "colab": {}
      },
      "source": [
        "p = plt.imread('val2017/000000425226.jpg')"
      ],
      "execution_count": 0,
      "outputs": []
    },
    {
      "cell_type": "code",
      "metadata": {
        "id": "uCUWZb-MS-pg",
        "colab_type": "code",
        "colab": {
          "base_uri": "https://localhost:8080/",
          "height": 286
        },
        "outputId": "7e9c2c01-2e9c-45eb-83bf-7fea99473f2e"
      },
      "source": [
        "plt.imshow(p)"
      ],
      "execution_count": 59,
      "outputs": [
        {
          "output_type": "execute_result",
          "data": {
            "text/plain": [
              "<matplotlib.image.AxesImage at 0x7fcd3049a400>"
            ]
          },
          "metadata": {
            "tags": []
          },
          "execution_count": 59
        },
        {
          "output_type": "display_data",
          "data": {
            "image/png": "[encoded data removed]",
            "text/plain": [
              "<Figure size 432x288 with 1 Axes>"
            ]
          },
          "metadata": {
            "tags": [],
            "needs_background": "light"
          }
        }
      ]
    },
    {
      "cell_type": "code",
      "metadata": {
        "id": "FJvK0uUwS-bw",
        "colab_type": "code",
        "colab": {}
      },
      "source": [
        ""
      ],
      "execution_count": 0,
      "outputs": []
    },
    {
      "cell_type": "code",
      "metadata": {
        "id": "GBQxSlCfAHV1",
        "colab_type": "code",
        "colab": {}
      },
      "source": [
        ""
      ],
      "execution_count": 0,
      "outputs": []
    }
  ]
}